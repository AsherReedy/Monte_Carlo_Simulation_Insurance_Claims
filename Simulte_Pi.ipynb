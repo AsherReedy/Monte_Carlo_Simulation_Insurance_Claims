{
 "cells": [
  {
   "cell_type": "markdown",
   "id": "10872e7d",
   "metadata": {},
   "source": [
    "Simulating Pi:  Pi is the ratio between a circle's circumference and its diameter\n",
    "\n",
    "Circle inscribed in a square with radius r = 1 with side lengths: l = 2r = 2\n",
    "\n",
    "We can ask, how much area of the square does the circle take up. This is the ratio between the area of the circle and the area of the square\n",
    "this is pi / 4,   we can rearrange the ratio to solve for pi\n",
    "\n",
    "We can apply a Monte Carlo Simulation to come to the same answer. Below is code for the simulation."
   ]
  },
  {
   "cell_type": "code",
   "execution_count": null,
   "id": "82ff57bb",
   "metadata": {},
   "outputs": [
    {
     "name": "stdout",
     "output_type": "stream",
     "text": [
      "The simulated ratio is: 0.7948\n",
      "The estimate for pi is: 3.1792\n",
      "Execution time: 0.027635700069367886 seconds\n"
     ]
    }
   ],
   "source": [
    "import random\n",
    "import time\n",
    "\n",
    "start_time = time.perf_counter()\n",
    "\n",
    "def simulate_pi(n):\n",
    "    r = 1\n",
    "    circle = 0\n",
    "    \n",
    "    for i in range(n):\n",
    "        x = random.uniform(-1*r,r)\n",
    "        y = random.uniform(-1*r,r)\n",
    "         \n",
    "        origin_dist = x**2 + y**2\n",
    "\n",
    "        if origin_dist <= r:\n",
    "            circle += 1\n",
    "    \n",
    "    probability_inside_circle = circle / n\n",
    "    pi_estimate = probability_inside_circle * 4\n",
    "\n",
    "    end_time = time.perf_counter()\n",
    "    elapsed = end_time - start_time\n",
    "\n",
    "    print(\"The simulated ratio is: \" + str(probability_inside_circle))\n",
    "    print(\"The estimate for pi is: \" + str(pi_estimate))\n",
    "    print(\"Execution time: \" + str(elapsed) + \" seconds\")\n",
    "    \n",
    "\n",
    "simulate_pi(10000)\n",
    "\n"
   ]
  },
  {
   "cell_type": "markdown",
   "id": "e4c6d6e7",
   "metadata": {},
   "source": [
    "Later Lets make a matplot animation showing this simulation in real time"
   ]
  }
 ],
 "metadata": {
  "kernelspec": {
   "display_name": "base",
   "language": "python",
   "name": "python3"
  },
  "language_info": {
   "codemirror_mode": {
    "name": "ipython",
    "version": 3
   },
   "file_extension": ".py",
   "mimetype": "text/x-python",
   "name": "python",
   "nbconvert_exporter": "python",
   "pygments_lexer": "ipython3",
   "version": "3.12.7"
  }
 },
 "nbformat": 4,
 "nbformat_minor": 5
}
